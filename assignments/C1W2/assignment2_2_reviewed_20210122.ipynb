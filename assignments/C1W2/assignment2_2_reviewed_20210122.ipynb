{
 "cells": [
  {
   "cell_type": "markdown",
   "metadata": {},
   "source": [
    "# Logistic Regression with a Neural Network mindset\n",
    "\n",
    "Welcome to your first (required) programming assignment! You will build a logistic regression classifier to recognize  cats. This assignment will step you through how to do this with a Neural Network mindset, and so will also hone your intuitions about deep learning.\n",
    "\n",
    "**Instructions:**\n",
    "- Do not use loops (for/while) in your code, unless the instructions explicitly ask you to do so.\n",
    "\n",
    "**You will learn to:**\n",
    "- Build the general architecture of a learning algorithm, including:\n",
    "    - Initializing parameters\n",
    "    - Calculating the cost function and its gradient\n",
    "    - Using an optimization algorithm (gradient descent) \n",
    "- Gather all three functions above into a main model function, in the right order."
   ]
  },
  {
   "cell_type": "markdown",
   "metadata": {},
   "source": [
    "## 1 - Packages ##\n",
    "\n",
    "First, let's run the cell below to import all the packages that you will need during this assignment. \n",
    "- [numpy](www.numpy.org) is the fundamental package for scientific computing with Python.\n",
    "- [h5py](http://www.h5py.org) is a common package to interact with a dataset that is stored on an H5 file.\n",
    "- [matplotlib](http://matplotlib.org) is a famous library to plot graphs in Python.\n",
    "- [PIL](http://www.pythonware.com/products/pil/) and [scipy](https://www.scipy.org/) are used here to test your model with your own picture at the end."
   ]
  },
  {
   "cell_type": "code",
   "execution_count": 1,
   "metadata": {},
   "outputs": [],
   "source": [
    "import numpy as np\n",
    "import matplotlib.pyplot as plt\n",
    "import h5py\n",
    "import scipy\n",
    "from PIL import Image\n",
    "from scipy import ndimage\n",
    "from lr_utils import load_dataset  # 这个函数在文件夹下的 py文件中\n",
    "\n",
    "%matplotlib inline"
   ]
  },
  {
   "cell_type": "markdown",
   "metadata": {
    "collapsed": true
   },
   "source": [
    "## 2 - Overview of the Problem set ##\n",
    "\n",
    "**Problem Statement**: You are given a dataset (\"data.h5\") containing:\n",
    "    - a training set of m_train images labeled as cat (y=1) or non-cat (y=0)\n",
    "    - a test set of m_test images labeled as cat or non-cat\n",
    "    - each image is of shape (num_px, num_px, 3) where 3 is for the 3 channels (RGB). Thus, each image is square (height = num_px) and (width = num_px).\n",
    "\n",
    "You will build a simple image-recognition algorithm that can correctly classify pictures as cat or non-cat.\n",
    "\n",
    "Let's get more familiar with the dataset. Load the data by running the following code."
   ]
  },
  {
   "cell_type": "code",
   "execution_count": 2,
   "metadata": {},
   "outputs": [],
   "source": [
    "# Loading the data (cat/non-cat)\n",
    "train_set_x_orig, train_set_y, test_set_x_orig, test_set_y, classes = load_dataset()"
   ]
  },
  {
   "cell_type": "markdown",
   "metadata": {},
   "source": [
    "We added \"_orig\" at the end of image datasets (train and test) because we are going to preprocess them. After preprocessing, we will end up with train_set_x and test_set_x (the labels train_set_y and test_set_y don't need any preprocessing).\n",
    "\n",
    "Each line of your train_set_x_orig and test_set_x_orig is an array representing an image. You can visualize an example by running the following code. Feel free also to change the `index` value and re-run to see other images. "
   ]
  },
  {
   "cell_type": "code",
   "execution_count": 4,
   "metadata": {},
   "outputs": [
    {
     "name": "stdout",
     "output_type": "stream",
     "text": [
      "(64, 64, 3)\n"
     ]
    }
   ],
   "source": [
    "print(train_set_x_orig[3].shape)\n"
   ]
  },
  {
   "cell_type": "code",
   "execution_count": 30,
   "metadata": {},
   "outputs": [
    {
     "data": {
      "text/plain": [
       "4096"
      ]
     },
     "execution_count": 30,
     "metadata": {},
     "output_type": "execute_result"
    }
   ],
   "source": [
    "64*64"
   ]
  },
  {
   "cell_type": "code",
   "execution_count": 16,
   "metadata": {},
   "outputs": [
    {
     "name": "stdout",
     "output_type": "stream",
     "text": [
      "shape = (64, 3)\n",
      "data = [[  1  23   2]\n",
      " [  1  15   2]\n",
      " [  2  18   2]\n",
      " [  5  31   6]\n",
      " [  8  40   3]\n",
      " [ 10  54   2]\n",
      " [  6  70   2]\n",
      " [  6  77   5]\n",
      " [  6  90   5]\n",
      " [ 15 100   3]\n",
      " [ 15  88   2]\n",
      " [ 15  78   4]\n",
      " [  2  71   2]\n",
      " [  1  62   1]\n",
      " [  1  57   1]\n",
      " [  1  34   1]\n",
      " [  1  20   1]\n",
      " [  1  18   1]\n",
      " [  1  22   2]\n",
      " [  2  31   2]\n",
      " [  3  37   2]\n",
      " [ 14  70   4]\n",
      " [  6  79   2]\n",
      " [  4  92   3]\n",
      " [  4  97   3]\n",
      " [  3  78   4]\n",
      " [  3  56   1]\n",
      " [  3  53   1]\n",
      " [  3  55   2]\n",
      " [  2  47   1]\n",
      " [  2  40   2]\n",
      " [  2  47   2]\n",
      " [  6  65   2]\n",
      " [  9  70   2]\n",
      " [  5  53   2]\n",
      " [  3  49   1]\n",
      " [  4  40   2]\n",
      " [  6  40   3]\n",
      " [ 21  62   9]\n",
      " [ 63 107  33]\n",
      " [ 93 133  81]\n",
      " [ 54  81  51]\n",
      " [  5  26   6]\n",
      " [  6  31   8]\n",
      " [  2  19   2]\n",
      " [  2  32   2]\n",
      " [  2  49   1]\n",
      " [  6  61   4]\n",
      " [ 12  57   3]\n",
      " [ 12  43   4]\n",
      " [ 12  51   6]\n",
      " [  3  33   2]\n",
      " [  2  43   2]\n",
      " [  2  47   3]\n",
      " [  3  58   5]\n",
      " [  4  60   3]\n",
      " [  2  40   3]\n",
      " [  2  27   4]\n",
      " [  2  23   5]\n",
      " [  2  19   3]\n",
      " [  1  16   2]\n",
      " [  1  22   1]\n",
      " [  2  38   2]\n",
      " [  2  52   2]]\n"
     ]
    },
    {
     "data": {
      "text/plain": [
       "array([[  1,  23,   2],\n",
       "       [  1,  15,   2],\n",
       "       [  2,  18,   2],\n",
       "       [  5,  31,   6],\n",
       "       [  8,  40,   3],\n",
       "       [ 10,  54,   2],\n",
       "       [  6,  70,   2],\n",
       "       [  6,  77,   5],\n",
       "       [  6,  90,   5],\n",
       "       [ 15, 100,   3],\n",
       "       [ 15,  88,   2],\n",
       "       [ 15,  78,   4],\n",
       "       [  2,  71,   2],\n",
       "       [  1,  62,   1],\n",
       "       [  1,  57,   1],\n",
       "       [  1,  34,   1],\n",
       "       [  1,  20,   1],\n",
       "       [  1,  18,   1],\n",
       "       [  1,  22,   2],\n",
       "       [  2,  31,   2],\n",
       "       [  3,  37,   2],\n",
       "       [ 14,  70,   4],\n",
       "       [  6,  79,   2],\n",
       "       [  4,  92,   3],\n",
       "       [  4,  97,   3],\n",
       "       [  3,  78,   4],\n",
       "       [  3,  56,   1],\n",
       "       [  3,  53,   1],\n",
       "       [  3,  55,   2],\n",
       "       [  2,  47,   1],\n",
       "       [  2,  40,   2],\n",
       "       [  2,  47,   2],\n",
       "       [  6,  65,   2],\n",
       "       [  9,  70,   2],\n",
       "       [  5,  53,   2],\n",
       "       [  3,  49,   1],\n",
       "       [  4,  40,   2],\n",
       "       [  6,  40,   3],\n",
       "       [ 21,  62,   9],\n",
       "       [ 63, 107,  33],\n",
       "       [ 93, 133,  81],\n",
       "       [ 54,  81,  51],\n",
       "       [  5,  26,   6],\n",
       "       [  6,  31,   8],\n",
       "       [  2,  19,   2],\n",
       "       [  2,  32,   2],\n",
       "       [  2,  49,   1],\n",
       "       [  6,  61,   4],\n",
       "       [ 12,  57,   3],\n",
       "       [ 12,  43,   4],\n",
       "       [ 12,  51,   6],\n",
       "       [  3,  33,   2],\n",
       "       [  2,  43,   2],\n",
       "       [  2,  47,   3],\n",
       "       [  3,  58,   5],\n",
       "       [  4,  60,   3],\n",
       "       [  2,  40,   3],\n",
       "       [  2,  27,   4],\n",
       "       [  2,  23,   5],\n",
       "       [  2,  19,   3],\n",
       "       [  1,  16,   2],\n",
       "       [  1,  22,   1],\n",
       "       [  2,  38,   2],\n",
       "       [  2,  52,   2]], dtype=uint8)"
      ]
     },
     "execution_count": 16,
     "metadata": {},
     "output_type": "execute_result"
    }
   ],
   "source": [
    "#Issue: IndexError: index 64 is out of bounds for axis 0 with size 64\n",
    "#Resolution: make sure not to exceed index bound\n",
    "np.set_printoptions(threshold=np.inf) # 加上这一句\n",
    "print(\"shape = \" + str (train_set_x_orig[3][1].shape))\n",
    "print(\"data = \"+ str(train_set_x_orig[3][1]))\n",
    "train_set_x_orig[3][1]"
   ]
  },
  {
   "cell_type": "code",
   "execution_count": 85,
   "metadata": {},
   "outputs": [
    {
     "name": "stdout",
     "output_type": "stream",
     "text": [
      "(209, 64, 64, 3)\n"
     ]
    }
   ],
   "source": [
    "print(train_set_x_orig.shape)"
   ]
  },
  {
   "cell_type": "code",
   "execution_count": 3,
   "metadata": {},
   "outputs": [
    {
     "name": "stdout",
     "output_type": "stream",
     "text": [
      "[[[[ 17  31  56]\n",
      "   [ 22  33  59]\n",
      "   [ 25  35  62]\n",
      "   ...\n",
      "   [  1  28  57]\n",
      "   [  1  26  56]\n",
      "   [  1  22  51]]\n",
      "\n",
      "  [[ 25  36  62]\n",
      "   [ 28  38  64]\n",
      "   [ 30  40  67]\n",
      "   ...\n",
      "   [  1  27  56]\n",
      "   [  1  25  55]\n",
      "   [  2  21  51]]\n",
      "\n",
      "  [[ 32  40  67]\n",
      "   [ 34  42  69]\n",
      "   [ 35  42  70]\n",
      "   ...\n",
      "   [  1  25  55]\n",
      "   [  0  24  54]\n",
      "   [  1  21  51]]\n",
      "\n",
      "  ...\n",
      "\n",
      "  [[  0   0   0]\n",
      "   [  0   0   0]\n",
      "   [  0   0   0]\n",
      "   ...\n",
      "   [  0   0   0]\n",
      "   [  0   0   0]\n",
      "   [  0   0   0]]\n",
      "\n",
      "  [[  0   0   0]\n",
      "   [  0   0   0]\n",
      "   [  0   0   0]\n",
      "   ...\n",
      "   [  0   0   0]\n",
      "   [  0   0   0]\n",
      "   [  0   0   0]]\n",
      "\n",
      "  [[  0   0   0]\n",
      "   [  0   0   0]\n",
      "   [  0   0   0]\n",
      "   ...\n",
      "   [  0   0   0]\n",
      "   [  0   0   0]\n",
      "   [  0   0   0]]]\n",
      "\n",
      "\n",
      " [[[196 192 190]\n",
      "   [193 186 182]\n",
      "   [188 179 174]\n",
      "   ...\n",
      "   [ 90 142 200]\n",
      "   [ 90 142 201]\n",
      "   [ 90 142 201]]\n",
      "\n",
      "  [[230 229 229]\n",
      "   [204 199 197]\n",
      "   [193 186 181]\n",
      "   ...\n",
      "   [ 91 143 201]\n",
      "   [ 91 143 201]\n",
      "   [ 91 143 201]]\n",
      "\n",
      "  [[232 225 224]\n",
      "   [235 234 234]\n",
      "   [208 205 202]\n",
      "   ...\n",
      "   [ 91 144 202]\n",
      "   [ 91 144 202]\n",
      "   [ 92 144 202]]\n",
      "\n",
      "  ...\n",
      "\n",
      "  [[ 18  17  15]\n",
      "   [ 14  14  13]\n",
      "   [ 29  29  32]\n",
      "   ...\n",
      "   [ 83  81  81]\n",
      "   [ 84  82  83]\n",
      "   [ 82  81  82]]\n",
      "\n",
      "  [[ 22  20  18]\n",
      "   [ 16  15  14]\n",
      "   [ 25  24  24]\n",
      "   ...\n",
      "   [ 82  80  80]\n",
      "   [ 83  81  82]\n",
      "   [ 82  81  81]]\n",
      "\n",
      "  [[ 45  43  39]\n",
      "   [ 61  59  54]\n",
      "   [ 81  78  74]\n",
      "   ...\n",
      "   [ 83  82  81]\n",
      "   [ 84  82  82]\n",
      "   [ 82  80  81]]]\n",
      "\n",
      "\n",
      " [[[ 82  71  68]\n",
      "   [ 89  83  83]\n",
      "   [100  98 104]\n",
      "   ...\n",
      "   [131 132 137]\n",
      "   [126 124 124]\n",
      "   [105  97  95]]\n",
      "\n",
      "  [[ 95  91  97]\n",
      "   [104 104 113]\n",
      "   [110 115 126]\n",
      "   ...\n",
      "   [135 134 135]\n",
      "   [127 122 119]\n",
      "   [111 105 103]]\n",
      "\n",
      "  [[ 94  85  83]\n",
      "   [ 97  89  90]\n",
      "   [110 109 115]\n",
      "   ...\n",
      "   [136 134 131]\n",
      "   [127 120 117]\n",
      "   [116 108 104]]\n",
      "\n",
      "  ...\n",
      "\n",
      "  [[ 96 116 131]\n",
      "   [ 97 115 130]\n",
      "   [103 123 139]\n",
      "   ...\n",
      "   [152 155 157]\n",
      "   [146 149 152]\n",
      "   [130 133 134]]\n",
      "\n",
      "  [[ 90 108 123]\n",
      "   [ 92 108 121]\n",
      "   [100 119 134]\n",
      "   ...\n",
      "   [150 152 155]\n",
      "   [144 146 147]\n",
      "   [134 135 134]]\n",
      "\n",
      "  [[ 86 102 116]\n",
      "   [ 87 103 115]\n",
      "   [ 94 114 127]\n",
      "   ...\n",
      "   [154 156 160]\n",
      "   [146 148 152]\n",
      "   [138 141 142]]]\n",
      "\n",
      "\n",
      " ...\n",
      "\n",
      "\n",
      " [[[143 155 165]\n",
      "   [184 190 198]\n",
      "   [142 149 155]\n",
      "   ...\n",
      "   [ 99  92 102]\n",
      "   [120  98 102]\n",
      "   [100  84  95]]\n",
      "\n",
      "  [[151 149 139]\n",
      "   [173 179 185]\n",
      "   [105 135 141]\n",
      "   ...\n",
      "   [ 91  87  99]\n",
      "   [119  99 104]\n",
      "   [120  95 101]]\n",
      "\n",
      "  [[204 190 185]\n",
      "   [180 185 195]\n",
      "   [117 155 177]\n",
      "   ...\n",
      "   [ 96  88 101]\n",
      "   [125 103 110]\n",
      "   [120 100 110]]\n",
      "\n",
      "  ...\n",
      "\n",
      "  [[ 41  80 116]\n",
      "   [ 41  80 116]\n",
      "   [ 41  78 115]\n",
      "   ...\n",
      "   [ 63  75  98]\n",
      "   [ 60  72  98]\n",
      "   [ 60  70  96]]\n",
      "\n",
      "  [[ 71  90 121]\n",
      "   [ 73  91 123]\n",
      "   [ 74  91 124]\n",
      "   ...\n",
      "   [ 79 101 142]\n",
      "   [ 80 100 140]\n",
      "   [ 82 101 139]]\n",
      "\n",
      "  [[ 71  88 122]\n",
      "   [ 73  92 128]\n",
      "   [ 76  95 131]\n",
      "   ...\n",
      "   [ 81 106 150]\n",
      "   [ 85 108 151]\n",
      "   [ 85 107 149]]]\n",
      "\n",
      "\n",
      " [[[ 22  24  23]\n",
      "   [ 23  25  24]\n",
      "   [ 24  26  25]\n",
      "   ...\n",
      "   [ 24  29  25]\n",
      "   [ 23  25  22]\n",
      "   [ 20  22  21]]\n",
      "\n",
      "  [[ 22  24  23]\n",
      "   [ 23  25  24]\n",
      "   [ 23  26  25]\n",
      "   ...\n",
      "   [ 22  28  23]\n",
      "   [ 20  23  22]\n",
      "   [ 19  21  21]]\n",
      "\n",
      "  [[ 22  24  22]\n",
      "   [ 23  25  24]\n",
      "   [ 23  26  25]\n",
      "   ...\n",
      "   [ 23  27  23]\n",
      "   [ 20  23  21]\n",
      "   [ 18  20  19]]\n",
      "\n",
      "  ...\n",
      "\n",
      "  [[  8   5   0]\n",
      "   [  9   6   1]\n",
      "   [  9   6   1]\n",
      "   ...\n",
      "   [  4   5   0]\n",
      "   [  5   4   0]\n",
      "   [  4   5   0]]\n",
      "\n",
      "  [[  7   5   0]\n",
      "   [  8   5   1]\n",
      "   [  9   6   1]\n",
      "   ...\n",
      "   [  4   5   0]\n",
      "   [  4   5   0]\n",
      "   [  4   5   0]]\n",
      "\n",
      "  [[  7   5   0]\n",
      "   [  8   5   0]\n",
      "   [  9   6   1]\n",
      "   ...\n",
      "   [  4   5   0]\n",
      "   [  4   5   0]\n",
      "   [  4   5   0]]]\n",
      "\n",
      "\n",
      " [[[  8  28  53]\n",
      "   [ 14  33  58]\n",
      "   [ 19  35  61]\n",
      "   ...\n",
      "   [ 11  16  35]\n",
      "   [ 10  16  35]\n",
      "   [  9  14  32]]\n",
      "\n",
      "  [[ 15  31  57]\n",
      "   [ 15  32  58]\n",
      "   [ 18  34  60]\n",
      "   ...\n",
      "   [ 13  17  35]\n",
      "   [ 13  17  35]\n",
      "   [ 13  16  35]]\n",
      "\n",
      "  [[ 20  35  61]\n",
      "   [ 19  33  59]\n",
      "   [ 20  33  59]\n",
      "   ...\n",
      "   [ 16  17  35]\n",
      "   [ 16  18  35]\n",
      "   [ 15  17  35]]\n",
      "\n",
      "  ...\n",
      "\n",
      "  [[  0   0   0]\n",
      "   [  0   0   0]\n",
      "   [  0   0   0]\n",
      "   ...\n",
      "   [  0   0   0]\n",
      "   [  0   0   0]\n",
      "   [  0   0   0]]\n",
      "\n",
      "  [[  0   0   0]\n",
      "   [  0   0   0]\n",
      "   [  0   0   0]\n",
      "   ...\n",
      "   [  0   0   0]\n",
      "   [  0   0   0]\n",
      "   [  0   0   0]]\n",
      "\n",
      "  [[  0   0   0]\n",
      "   [  0   0   0]\n",
      "   [  0   0   0]\n",
      "   ...\n",
      "   [  0   0   0]\n",
      "   [  0   0   0]\n",
      "   [  0   0   0]]]]\n"
     ]
    }
   ],
   "source": [
    "#Issue:\n",
    "###_ IOPub data rate exceeded.\n",
    "# The notebook server will temporarily stop sending output\n",
    "# to the client in order to avoid crashing it.\n",
    "# To change this limit, set the config variable\n",
    "# `--NotebookApp.iopub_data_rate_limit`.\n",
    "\n",
    "# Current values:\n",
    "# NotebookApp.iopub_data_rate_limit=1000000.0 (bytes/sec)\n",
    "# NotebookApp.rate_limit_window=3.0 (secs) _###\n",
    "#Resolution: refer to https://blog.csdn.net/laochengzier/article/details/80705298 _\n",
    "# _ anaconda cmd ->jupyter notebook --generate-config ->open jupyter_notebook_config.py generated -> _\n",
    "# _ uncomment c.NotebookApp.iopub_data_rate_limit = 1000000 -> increase the value 1000 times larger\n",
    "\n",
    "print(train_set_x_orig)"
   ]
  },
  {
   "cell_type": "code",
   "execution_count": 4,
   "metadata": {},
   "outputs": [],
   "source": [
    "###_ Note: what's the meaning of argument \"-1\" in below reshape function\n",
    "# newshape : int or tuple of ints\n",
    "# The new shape should be compatible with the original shape. If an integer, \n",
    "# then the result will be a 1-D array of that length. One shape dimension can be -1. \n",
    "# In this case, **the value is inferred from the length of the array and remaining dimensions**. _###\n",
    "\n",
    "train_set_x_flatten = train_set_x_orig.reshape(train_set_x_orig.shape[0], -1).T"
   ]
  },
  {
   "cell_type": "code",
   "execution_count": 5,
   "metadata": {},
   "outputs": [
    {
     "name": "stdout",
     "output_type": "stream",
     "text": [
      "(209, 64, 64, 3)\n"
     ]
    }
   ],
   "source": [
    "print(train_set_x_orig.shape)"
   ]
  },
  {
   "cell_type": "code",
   "execution_count": 65,
   "metadata": {},
   "outputs": [],
   "source": [
    "del str"
   ]
  },
  {
   "cell_type": "code",
   "execution_count": 6,
   "metadata": {},
   "outputs": [
    {
     "name": "stdout",
     "output_type": "stream",
     "text": [
      "sanity check after reshaping: [17 31 56 22 33]\n"
     ]
    }
   ],
   "source": [
    "#Issue: TypeError: 'str' object is not callable\n",
    "#Resolution:\n",
    "print (\"sanity check after reshaping: \" + str(train_set_x_flatten[0:5,0]))"
   ]
  },
  {
   "cell_type": "code",
   "execution_count": 7,
   "metadata": {},
   "outputs": [
    {
     "name": "stdout",
     "output_type": "stream",
     "text": [
      "(12288, 209)\n"
     ]
    }
   ],
   "source": [
    "print (train_set_x_flatten.shape)"
   ]
  },
  {
   "cell_type": "code",
   "execution_count": 8,
   "metadata": {},
   "outputs": [
    {
     "name": "stdout",
     "output_type": "stream",
     "text": [
      "(4095,)\n"
     ]
    }
   ],
   "source": [
    "print (train_set_x_flatten[0:64*64-1,0].shape)"
   ]
  },
  {
   "cell_type": "code",
   "execution_count": 14,
   "metadata": {},
   "outputs": [
    {
     "name": "stdout",
     "output_type": "stream",
     "text": [
      "[17 31 56 22 33 59 25 35 62 25 35 62 27 36 64 28 38 67 30 41 69 31 43 73\n",
      " 32 47 76 34 49 79 35 50 82 36 51 82 35 50 81 34 49 79 33 48 79 33 48 79\n",
      " 32 47 78 31 46 76 30 44 75 29 44 75 29 44 75 27 44 74 27 42 73 25 41 71\n",
      " 23 40 72 21 41 73 21 42 74 21 41 74 20 40 73 20 39 72 19 39 72 18 38 71\n",
      " 16 38 70 14 37 69 12 37 68 11 36 67  9 36 66  7 34 64  7 35 66  4 36 69\n",
      "  3 36 69  2 34 65  2 34 65  1 35 67  1 34 67  1 34 66  0 32 63  1 30 61\n",
      "  1 30 62  2 29 59  0 29 59  1 29 59  1 28 58  1 28 57  1 28 57  1 28 57\n",
      "  1 28 57  1 25 55  0 25 55  1 27 58  1 28 58  1 28 57  1 26 56  1 22 51\n",
      " 25 36 62 28 38 64 30 40 67 30 39 67 31 40 68 33 41 71 34 44 73 35 45 74\n",
      " 35 47 75 35 48 77 36 49 78 38 51 81 37 51 82 36 49 80 36 48 79 35 48 79\n",
      " 34 48 79 33 46 77 32 45 76 31 45 75 30 44 74 28 43 74 27 42 73 27 41 73\n",
      " 25 41 72 23 41 73 23 41 73 23 40 73 23 40 71 21 40 71 21 39 70 21 39 70\n",
      " 19 38 70 17 38 70 15 37 69 12 36 67 10 35 66 10 34 65  9 34 66  6 36 69\n",
      "  6 37 69  4 34 66  3 33 66  3 34 67  1 34 67  1 33 65  1 32 64  1 31 63\n",
      "  1 30 61  0 29 59  1 29 59  1 29 59  1 28 58  1 28 57  1 27 57  1 28 58\n",
      "  1 28 57  1 26 56  1 27 57  1 28 59  1 26 56  1 27 56  1 25 55  2 21 51\n",
      " 32 40 67 34 42 69 35 42 70 36 42 71 38 45 73 38 45 74 38 46 75 39 47 76\n",
      " 38 47 76 38 47 76 39 47 77 40 49 79 40 51 81 39 50 79 39 48 78 37 47 77\n",
      " 36 47 76 36 46 76 35 45 75 34 45 75 32 44 74 32 43 72 30 42 72 29 41 71\n",
      " 28 41 71 26 40 70 26 40 71 25 40 70 25 39 70 24 39 70 23 39 70 23 38 70\n",
      " 22 38 71 20 38 71 18 37 69 14 35 66 12 33 65 11 34 66 11 36 67  9 36 67\n",
      "  8 37 68  6 35 67  5 35 67  4 34 67  3 34 66  2 34 65  1 35 67  1 32 64\n",
      "  1 30 62  0 30 61  1 30 60  2 29 59  1 28 58  1 27 56  1 27 56  1 28 58\n",
      "  1 28 57  1 27 57  1 28 58  0 28 58  1 26 56  1 25 55  0 24 54  1 21 51\n",
      " 36 42 69 38 44 70 39 45 72 39 45 72 41 47 74 41 47 75 41 47 76 41 48 76\n",
      " 41 48 76 41 48 76 41 48 76 41 48 77 42 49 78 42 50 79 41 48 77 39 47 76\n",
      " 38 46 75 38 46 75 37 45 74 35 45 74 35 44 74 34 43 73 32 41 71 31 40 69\n",
      " 29 39 69 28 39 68 28 39 68 28 40 69 27 40 70 26 39 70 25 39 70 24 38 69\n",
      " 24 38 70 23 38 70 21 37 68 17 34 65 15 33 64 14 35 67 13 36 67 11 36 67\n",
      " 10 36 67  9 35 68  8 34 67  5 34 66  3 34 66  4 34 66  3 35 68  2 33 64\n",
      "  1 32 63  1 30 62  1 29 59  1 29 59  1 29 59  1 26 56  1 27 57  1 29 59\n",
      "  0 28 58  1 28 58  1 29 59  1 28 59  1 26 56  0 24 55  0 24 52  1 22 51\n",
      " 40 44 69 40 45 69 39 44 70 40 45 70 42 46 72 43 47 74 43 48 75 42 48 74\n",
      " 42 47 75 43 48 76 42 48 76 42 48 76 42 48 76 43 48 77 42 47 76 41 46 75\n",
      " 40 45 74 39 46 74 38 45 73 38 45 73 36 44 73 36 42 71 34 41 70 33 40 68\n",
      " 31 39 67 31 39 67 30 39 68 31 40 70 30 40 70 29 39 69 28 39 69 27 39 69\n",
      " 25 38 69 25 38 69 22 36 67 19 34 64 18 34 65 18 36 67 15 36 67 12 35 67\n",
      " 13 35 67 12 36 68 10 35 68  8 35 66  7 34 65  7 34 66  5 34 66  3 33 63\n",
      "  1 32 63  2 30 60  1 29 60  1 31 62  1 30 60  1 27 58  1 27 57  1 29 59\n",
      "  0 30 61  1 30 61  1 30 62  1 28 58  0 25 55  0 24 54  0 24 52  1 23 51\n",
      " 41 45 68 41 44 67 40 42 67 42 44 69 44 46 71 45 48 73 45 48 73 45 48 73\n",
      " 45 48 74 45 48 74 44 49 75 44 48 75 44 48 74 43 48 75 43 46 74 41 45 73\n",
      " 40 44 72 40 45 72 39 44 71 39 44 72 38 44 71 38 43 70 36 41 69 34 39 67\n",
      " 33 38 66 34 39 67 33 39 68 33 40 68 33 40 69 33 40 69 31 39 68 31 39 68\n",
      " 28 39 68 27 38 69 25 36 66 21 34 63 21 35 65 21 36 67 18 35 65 15 35 66\n",
      " 14 35 66 15 36 68 11 35 66 10 34 65  9 34 65  8 35 65  7 34 64  5 33 63\n",
      "  3 31 61  2 29 59  3 30 61  2 32 64  1 31 62  1 28 59  1 27 57  1 28 58\n",
      "  1 30 60  1 30 61  1 29 60  1 27 57  0 25 55  1 24 54  0 24 52  1 23 51\n",
      " 43 45 67 43 44 65 44 44 67 45 45 69 45 47 69 46 48 71 47 48 72 47 48 73\n",
      " 46 48 73 47 49 73 46 49 73 45 48 73 44 47 72 44 47 72 43 46 72 42 45 71\n",
      " 41 44 70 40 44 70 40 44 70 39 43 70 39 43 69 38 42 68 37 41 67 36 39 65\n",
      " 35 39 66 35 39 66 34 40 67 34 40 67 34 39 68 34 39 68 32 39 67 32 39 67\n",
      " 31 39 67 29 38 67 26 36 64 24 35 63 24 37 66 24 38 69 21 36 66 16 33 63\n",
      " 17 36 67 17 37 69 14 34 65 12 35 66 11 35 66 10 34 65  8 34 64  6 33 63\n",
      "  4 31 61  3 29 59  3 30 60  2 32 63  1 32 62  1 29 58  1 26 56  1 26 56\n",
      "  1 28 57  1 29 59  2 29 59  1 26 56  1 25 55  1 24 55  1 25 53  1 23 51\n",
      " 46 46 67 45 45 66 46 45 67 47 46 68 48 47 69 48 48 70 49 49 71 49 48 72\n",
      " 49 48 72 49 48 72 48 48 71 47 48 70 46 46 71 46 46 71 44 46 69 44 45 69\n",
      " 43 44 68 41 44 68 41 43 67 40 42 67 40 42 66 40 41 65 39 41 65 39 40 65\n",
      " 37 40 65 36 39 65 37 40 66 36 40 66 35 39 66 35 39 66 34 40 66 34 40 68\n",
      " 35 40 69 33 40 68 28 36 64 27 36 64 28 38 68 27 39 69 22 35 64 18 33 61\n",
      " 20 37 67 22 40 72 17 36 67 15 34 66 14 36 68 13 36 68  9 33 64  8 33 63\n",
      "  7 32 62  4 29 59  4 30 60  3 31 61  2 31 61  1 28 57  1 26 55  1 26 56\n",
      "  1 27 56  1 28 58  2 28 58  1 25 54  0 24 52  1 24 53  0 24 52  1 22 50\n",
      " 50 47 68 49 46 67 48 45 66 49 47 68 51 49 70 51 49 70 52 49 70 52 49 70\n",
      " 51 49 70 50 48 70 50 48 69 49 48 69 48 46 68 46 46 67 46 45 67 44 45 66\n",
      " 44 44 66 44 43 66 43 42 65 43 42 65 43 42 66 44 43 66 43 42 65 42 41 65\n",
      " 40 41 64 40 40 64 40 40 64 39 40 64 39 40 65 38 40 65 38 41 66 38 42 68\n",
      " 37 41 68 34 39 66 30 36 63 31 38 66 32 40 68 29 38 67 23 34 63 19 32 60\n",
      " 22 37 66 25 41 72 20 36 67 17 34 63 17 36 66 16 36 67 12 34 65 12 35 66\n",
      " 12 36 67  9 34 64  6 33 64  5 31 61  3 28 58  2 27 57  1 27 54  1 28 56\n",
      "  1 28 57  1 28 57  1 27 55  0 25 53  1 24 52  1 25 53  0 24 52  1 22 50\n",
      " 53 49 69 52 47 67 51 48 67 52 48 68 53 49 69 53 49 69 53 49 69 53 49 69\n",
      " 52 49 69 52 49 69 51 48 68 50 47 68 48 45 66 47 45 66 47 44 66 47 45 66\n",
      " 47 44 65 46 43 65 45 43 65 44 42 64 44 42 64 45 43 65 45 42 64 44 42 64\n",
      " 43 41 63 43 41 63 42 41 63 42 41 64 43 42 65 43 42 66 42 42 66 42 42 67\n",
      " 40 42 67 34 38 63 33 37 62 33 39 65 31 37 65 28 35 63 25 33 61 23 34 61\n",
      " 25 36 66 26 40 70 22 36 65 19 34 62 19 34 63 16 34 64 14 34 64 15 36 66\n",
      " 15 38 69 11 35 65  8 34 64  6 31 61  3 29 58  3 27 56  2 28 57  2 30 58\n",
      "  2 28 57  1 27 55  0 25 53  0 24 52  0 25 52  0 26 53  1 24 52  1 21 48\n",
      " 56 50 67 56 50 68 55 50 67 56 50 68 57 50 67 56 50 68 56 49 68 55 49 67\n",
      " 53 49 67 53 48 68 52 48 67 50 46 66 49 45 64 48 45 65 48 44 65 49 45 65\n",
      " 49 45 65 48 44 64 47 44 64 47 43 64 47 43 64 47 43 64 47 42 64 46 42 63\n",
      " 45 42 63 45 41 63 45 42 64 46 43 65 47 44 66 48 44 67 46 43 66 45 43 66\n",
      " 45 43 67 39 39 63 38 39 64 34 37 62 31 35 61 28 34 59 29 35 61 28 35 62\n",
      " 29 37 65 28 38 66 24 35 64 22 34 63 19 33 61 18 33 61 16 33 61 16 34 63\n",
      " 17 36 66 13 33 63 10 32 62  7 31 60  5 30 59  3 28 56  3 30 59  3 30 59\n",
      "  2 28 57  1 26 53  0 25 52  1 25 53  0 25 53  1 25 52  1 23 49  0 21 48\n",
      " 58 50 66 58 50 66 58 50 66 59 51 67 59 50 67 58 49 68 58 50 67 57 49 66\n",
      " 56 48 65 55 48 66 54 48 65 52 46 64 51 45 62 51 45 63 51 45 64 52 45 64\n",
      " 51 45 64 51 44 64 50 43 64 50 43 63 49 43 63 49 43 62 50 44 64 50 43 64\n",
      " 50 43 64 50 43 64 50 43 64 50 45 66 51 46 67 51 46 68 50 46 67 49 45 67\n",
      " 48 46 68 44 42 64 41 40 63 36 37 60 34 36 59 32 35 59 32 36 63 32 37 64\n",
      " 31 37 64 30 37 64 28 37 65 25 34 62 21 32 59 20 33 59 19 32 60 19 34 61\n",
      " 18 35 63 14 33 61 13 32 60  9 30 59  7 31 61  7 32 62  6 33 62  4 30 59\n",
      "  3 28 57  1 26 54  0 26 53  1 25 53  0 26 53  1 24 52  1 21 49  0 20 47\n",
      " 60 50 66 60 50 66 62 51 66 62 51 67 61 50 66 61 50 66 60 50 65 59 49 65\n",
      " 58 49 65 58 49 64 56 48 64 55 46 62 53 45 62 54 45 62 54 45 62 54 46 63\n",
      " 54 46 63 54 45 63 53 45 63 53 44 62 53 44 63 53 45 63 55 46 64 55 46 64\n",
      " 54 46 64 54 45 64 54 46 64 55 47 65 56 48 66 56 48 67 55 47 67 53 47 67\n",
      " 51 46 67 48 43 65 45 41 63 39 37 59 38 37 59 36 36 59 36 36 61 34 37 62\n",
      " 31 36 61 29 35 60 28 35 61 26 33 59 22 31 58 22 32 58 22 33 60 21 33 60\n",
      " 19 34 61 17 33 60 16 32 59 12 31 59  8 31 59  8 33 62  6 32 61  5 28 58\n",
      "  3 27 55  1 25 53  1 25 52  1 24 51  0 23 50  1 22 49  1 20 47  1 18 45\n",
      " 62 50 65 62 50 65 63 51 65 64 52 66 64 52 65 64 51 65 62 50 64 61 49 64\n",
      " 60 49 63 60 49 64 59 48 63 57 46 62 57 46 62 57 47 62 58 47 63 58 47 63\n",
      " 58 47 63 58 47 63 58 47 63 58 47 63 58 47 63 58 47 64 59 48 64 60 48 65\n",
      " 59 47 64 58 47 64 59 48 64 59 48 65 61 50 66 62 50 67 59 49 67 57 48 66\n",
      " 55 46 65 52 44 64 48 41 62 43 39 60 41 38 59 38 36 57 37 35 57 35 35 59\n",
      " 32 35 58 30 35 57 28 33 58 26 32 57 24 30 56 24 31 57 25 33 60 23 33 60\n",
      " 20 32 59 17 32 58 17 32 58 14 30 57 10 30 56  8 30 59  8 31 60  5 29 59\n",
      "  2 27 55  1 25 52  2 23 50  1 22 47  0 21 46  1 20 45  1 19 44  1 18 44\n",
      " 64 51 62 64 51 63 65 51 63 66 52 64 67 53 64 68 53 65 66 52 64 65 51 64\n",
      " 63 50 62 62 49 61 61 48 61 60 48 62 61 48 62 61 49 62 62 49 62 62 49 63\n",
      " 62 49 63 63 50 63 63 50 64 63 50 64 63 50 63 62 49 63 63 50 64 64 50 65\n",
      " 62 49 64 62 48 64 62 49 65 64 50 66 66 52 68 66 53 68 64 50 66 62 49 65\n",
      " 60 49 65 55 45 63 52 43 62 48 41 60 46 40 59 42 37 57 38 35 56 37 35 57\n",
      " 35 34 56 33 34 56 30 32 55 28 31 55 27 30 54 27 31 56 26 33 58 25 32 58\n",
      " 22 31 57 20 32 58 18 31 57 14 30 56 10 28 54  8 26 53  8 28 56  6 28 56\n",
      "  3 25 53  2 23 50  2 22 48  1 21 46  1 20 45  1 19 44  1 18 44  1 19 44\n",
      " 64 51 61 66 51 62 68 52 62 69 53 63 70 53 64 70 54 65 69 53 64 69 52 63\n",
      " 67 52 62 65 51 61 65 51 61 65 51 62 65 51 62 65 51 62 66 52 63 67 52 63\n",
      " 69 53 64 70 53 65 70 53 66 69 53 65 68 53 64 67 51 64 67 52 64 67 51 64\n",
      " 66 51 63 67 51 63 67 51 64 69 53 65 71 55 67 72 55 68 70 54 67 67 52 66\n",
      " 62 49 65 58 46 62 56 45 62 53 43 61 51 42 60 46 39 58 41 36 55 38 35 55\n",
      " 37 34 55 35 33 55 32 32 54 30 31 54 30 32 54 30 32 55 29 33 57 27 32 57\n",
      " 24 30 56 20 29 55 15 27 53 12 26 51  9 24 50  7 23 48  7 24 49  6 24 50\n",
      "  4 23 49  4 22 48  2 22 47  1 21 46  1 19 45  0 20 45  0 20 45  0 20 45\n",
      " 66 51 60 68 52 61 69 53 61 71 53 62 72 54 63 74 55 64 74 55 64 72 54 63\n",
      " 71 53 62 70 53 63 70 53 62 70 52 62 71 53 63 72 54 63 73 55 64 74 55 65\n",
      " 75 56 66 76 56 66 75 56 66 74 55 65 72 54 64 72 54 64 72 54 64 72 53 63\n",
      " 71 53 63 72 54 64 73 54 64 73 55 65 75 57 67 77 58 68 76 57 68 72 54 66\n",
      " 65 50 62 61 47 61 59 46 62 58 46 61 54 43 60 48 40 56 45 37 54 41 35 53\n",
      " 38 34 53 37 34 53 35 33 53 33 32 53 33 32 53 32 32 55 30 32 54 27 31 53\n",
      " 22 28 51 19 25 50 15 23 47 12 22 45 10 21 44  9 20 43  8 22 45  7 22 48\n",
      "  5 22 47  4 21 47  3 22 46  2 21 46  2 20 45  1 20 45  1 20 44  1 19 44\n",
      " 70 52 58 71 53 59 73 53 60 75 54 61 76 56 62 77 56 63 78 57 63 77 57 63\n",
      " 76 56 62 74 55 62 74 55 62 76 55 63 77 56 63 77 57 63 78 57 64 78 58 65\n",
      " 78 58 65 78 57 65 77 57 64 77 56 64 76 55 64 76 55 64 76 56 63 76 55 63\n",
      " 76 55 63 77 56 64 78 56 64 78 56 64 80 58 66 82 60 68 81 59 67 77 56 66\n",
      " 68 51 61 65 48 61 62 47 61 60 46 60 57 44 59 51 40 56 48 38 55 44 36 53\n",
      " 40 33 51 40 34 53 38 34 52 36 33 53 35 33 53 34 32 53 30 30 51 25 27 48\n",
      " 19 24 45 17 22 43 15 20 41 14 19 41 13 19 41 12 19 42 11 21 45  8 22 47\n",
      "  6 21 46  5 21 46  4 21 45  3 21 46  2 20 45  2 20 44  1 19 43  2 18 43\n",
      " 74 54 57 75 54 59 77 55 60 78 56 60 80 57 62 80 57 62 81 58 63 81 59 63\n",
      " 80 58 62 79 57 61 79 57 62 81 58 63 82 58 64 82 59 64 82 59 64 81 58 63\n",
      " 81 58 63 80 57 63 80 57 63 79 57 63 79 56 61 79 57 62 80 57 62 80 57 62\n",
      " 81 57 62 81 57 63 83 58 64 84 59 64 85 61 65 86 61 66 86 61 66 81 58 65\n",
      " 73 53 61 67 49 59 65 47 59 62 46 58 57 43 57 52 40 54 49 38 53 46 35 51\n",
      " 43 34 50 43 35 52 41 34 52 40 35 52 38 34 53 35 32 51 30 28 48 25 24 44\n",
      " 21 21 41 18 20 40 16 19 39 15 20 40 14 20 41 14 20 43 13 22 45 10 21 44\n",
      "  8 21 45  6 21 44  4 20 43  4 20 45  3 19 44  2 19 44  2 18 43  2 18 43\n",
      " 77 55 57 79 56 59 81 57 60 83 58 60 84 59 62 85 60 62 85 60 62 85 61 62\n",
      " 85 60 63 84 60 61 85 60 62 85 60 63 86 61 63 86 61 63 87 61 63 86 60 63\n",
      " 84 59 62 83 58 62 83 58 62 82 57 61 82 58 61 83 58 61 85 59 62 86 58 62\n",
      " 86 59 62 87 60 62 88 61 63 90 62 64 90 63 64 90 63 65 90 63 66 86 60 64\n",
      " 79 55 61 72 51 58 68 48 57 65 47 57 60 44 55 55 40 53 51 38 51 48 36 50\n",
      " 47 36 50 47 36 52 45 35 51 44 35 52 42 35 52 37 31 49 31 26 45 26 23 41\n",
      " 23 21 39 21 20 39 19 20 39 18 21 41 17 21 42 16 22 44 14 22 45 13 21 44\n",
      " 10 21 44  7 20 43  6 19 43  5 19 43  4 19 43  3 18 43  2 17 42  2 18 43\n",
      " 81 56 57 83 58 58 85 59 60 87 60 60 88 61 61 89 62 62 89 63 62 90 63 62\n",
      " 89 62 62 90 63 61 90 63 62 90 63 62 90 63 63 90 63 63 91 63 63 90 62 62\n",
      " 88 61 62 87 60 61 86 59 61 86 59 60 86 59 60 87 59 61 89 61 61 91 61 61\n",
      " 91 62 61 92 62 61 92 63 62 94 64 63 95 65 63 97 66 64 97 66 65 94 65 64\n",
      " 86 59 61 79 53 58 73 50 56 69 48 56 63 44 53 58 40 51 55 39 50 52 38 50\n",
      " 51 37 50 49 37 50 48 37 51 47 36 52 44 35 50 39 30 48 34 27 44 29 24 41\n",
      " 26 22 39 24 21 39 23 22 40 22 22 41 19 22 43 17 22 44 15 21 42 14 20 42\n",
      " 12 20 43 10 20 43  8 20 43  6 20 43  5 19 43  3 19 44  2 18 41  1 17 42\n",
      " 85 58 56 87 60 58 90 62 59 91 63 59 92 64 61 94 65 62 94 66 62 94 65 62\n",
      " 94 65 62 94 65 61 94 65 62 94 65 62 94 65 62 94 65 62 94 65 62 94 64 61\n",
      " 93 64 61 91 62 60 90 61 59 90 61 59 91 62 59]\n"
     ]
    }
   ],
   "source": [
    "#Issue: TypeError: write() argument must be str, not numpy.uint8\n",
    "#Resolution: cast the value to string type\n",
    "\n",
    "#Issue: only partial values were printed, \"[17 31 56 ... 91 62 59]\"\n",
    "#Resolution: add \"np.set_printoptions(threshold=np.inf)  \n",
    "\n",
    "np.set_printoptions(threshold=np.inf)    \n",
    "pixels = str(train_set_x_flatten[0:64*64-1,0])\n",
    "print(pixels)\n",
    "\n",
    "f=open(\"test.txt\",\"w\")\n",
    " \n",
    "for line in pixels:\n",
    "    f.write(line)\n",
    "f.close()"
   ]
  },
  {
   "cell_type": "code",
   "execution_count": 84,
   "metadata": {},
   "outputs": [],
   "source": [
    "pixels = train_set_x_flatten[64*64*2:64*64*3,0].reshape(64,64)\n",
    "np.savetxt(\"test.txt\", pixels, fmt=\"%d\")"
   ]
  },
  {
   "cell_type": "code",
   "execution_count": 63,
   "metadata": {},
   "outputs": [],
   "source": [
    "pixels = str(train_set_x_flatten[0:64*64-1,0])\n",
    "str = ''\n",
    "f=open(\"test.txt\",\"w\")\n",
    "f.write(str.join(pixels))\n",
    "f.close()"
   ]
  },
  {
   "cell_type": "code",
   "execution_count": 41,
   "metadata": {},
   "outputs": [
    {
     "name": "stdout",
     "output_type": "stream",
     "text": [
      "y = [0], it's a 'non-cat' picture.\n"
     ]
    },
    {
     "data": {
      "image/png": "[encoded data removed]",
      "text/plain": [
       "<Figure size 432x288 with 1 Axes>"
      ]
     },
     "metadata": {
      "needs_background": "light"
     },
     "output_type": "display_data"
    }
   ],
   "source": [
    "# Example of a picture\n",
    "index = 1\n",
    "plt.imshow(train_set_x_orig[index])\n",
    "print (\"y = \" + str(train_set_y[:, index]) + \", it's a '\" + classes[np.squeeze(train_set_y[:, index])].decode(\"utf-8\") +  \"' picture.\")"
   ]
  },
  {
   "cell_type": "markdown",
   "metadata": {},
   "source": [
    "Many software bugs in deep learning come from having matrix/vector dimensions that don't fit. If you can keep your matrix/vector dimensions straight you will go a long way toward eliminating many bugs. \n",
    "\n",
    "**Exercise:** Find the values for:\n",
    "    - m_train (number of training examples)\n",
    "    - m_test (number of test examples)\n",
    "    - num_px (= height = width of a training image)\n",
    "Remember that `train_set_x_orig` is a numpy-array of shape (m_train, num_px, num_px, 3). For instance, you can access `m_train` by writing `train_set_x_orig.shape[0]`."
   ]
  },
  {
   "cell_type": "code",
   "execution_count": 124,
   "metadata": {
    "scrolled": true
   },
   "outputs": [
    {
     "name": "stdout",
     "output_type": "stream",
     "text": [
      "Number of training examples: m_train = 209\n",
      "Number of testing examples: m_test = 50\n",
      "Height/Width of each image: num_px = 64\n",
      "Each image is of size: (64, 64, 3)\n",
      "train_set_x shape: (209, 64, 64, 3)\n",
      "train_set_y shape: (1, 209)\n",
      "test_set_x shape: (50, 64, 64, 3)\n",
      "test_set_y shape: (1, 50)\n"
     ]
    }
   ],
   "source": [
    "### START CODE HERE ### (≈ 3 lines of code)\n",
    "m_train = train_set_x_orig.shape[0]\n",
    "m_test = test_set_x_orig.shape[0]\n",
    "num_px = train_set_x_orig[0].shape[0]\n",
    "### END CODE HERE ###\n",
    "\n",
    "print (\"Number of training examples: m_train = \" + str(m_train))\n",
    "print (\"Number of testing examples: m_test = \" + str(m_test))\n",
    "print (\"Height/Width of each image: num_px = \" + str(num_px))\n",
    "print (\"Each image is of size: (\" + str(num_px) + \", \" + str(num_px) + \", 3)\")\n",
    "print (\"train_set_x shape: \" + str(train_set_x_orig.shape))\n",
    "print (\"train_set_y shape: \" + str(train_set_y.shape))\n",
    "print (\"test_set_x shape: \" + str(test_set_x_orig.shape))\n",
    "print (\"test_set_y shape: \" + str(test_set_y.shape))"
   ]
  },
  {
   "cell_type": "markdown",
   "metadata": {},
   "source": [
    "**Expected Output for m_train, m_test and num_px**: \n",
    "<table style=\"width:15%\">\n",
    "  <tr>\n",
    "    <td>**m_train**</td>\n",
    "    <td> 209 </td> \n",
    "  </tr>\n",
    "  \n",
    "  <tr>\n",
    "    <td>**m_test**</td>\n",
    "    <td> 50 </td> \n",
    "  </tr>\n",
    "  \n",
    "  <tr>\n",
    "    <td>**num_px**</td>\n",
    "    <td> 64 </td> \n",
    "  </tr>\n",
    "  \n",
    "</table>\n"
   ]
  },
  {
   "cell_type": "markdown",
   "metadata": {},
   "source": [
    "For convenience, you should now reshape images of shape (num_px, num_px, 3) in a numpy-array of shape (num_px $*$ num_px $*$ 3, 1). After this, our training (and test) dataset is a numpy-array where each column represents a flattened image. There should be m_train (respectively m_test) columns.\n",
    "\n",
    "**Exercise:** Reshape the training and test data sets so that images of size (num_px, num_px, 3) are flattened into single vectors of shape (num\\_px $*$ num\\_px $*$ 3, 1).\n",
    "\n",
    "A trick when you want to flatten a matrix X of shape (a,b,c,d) to a matrix X_flatten of shape (b$*$c$*$d, a) is to use: \n",
    "```python\n",
    "X_flatten = X.reshape(X.shape[0], -1).T      # X.T is the transpose of X\n",
    "```"
   ]
  },
  {
   "cell_type": "code",
   "execution_count": 117,
   "metadata": {},
   "outputs": [
    {
     "name": "stdout",
     "output_type": "stream",
     "text": [
      "train_set_x_flatten shape: (12288, 209)\n",
      "train_set_y shape: (1, 209)\n",
      "test_set_x_flatten shape: (12288, 50)\n",
      "test_set_y shape: (1, 50)\n",
      "sanity check after reshaping: [17 31 56 22 33]\n"
     ]
    }
   ],
   "source": [
    "# Reshape the training and test examples\n",
    "\n",
    "### START CODE HERE ### (≈ 2 lines of code)  注意 train_set_x_flatten 是什么\n",
    "train_set_x_flatten = train_set_x_orig.reshape(train_set_x_orig.shape[0], -1).T\n",
    "test_set_x_flatten = test_set_x_orig.reshape(test_set_x_orig.shape[0], -1).T\n",
    "### END CODE HERE ###\n",
    "\n",
    "print (\"train_set_x_flatten shape: \" + str(train_set_x_flatten.shape))\n",
    "print (\"train_set_y shape: \" + str(train_set_y.shape))\n",
    "print (\"test_set_x_flatten shape: \" + str(test_set_x_flatten.shape))\n",
    "print (\"test_set_y shape: \" + str(test_set_y.shape))\n",
    "print (\"sanity check after reshaping: \" + str(train_set_x_flatten[0:5,0]))"
   ]
  },
  {
   "cell_type": "markdown",
   "metadata": {},
   "source": [
    "**Expected Output**: \n",
    "\n",
    "<table style=\"width:35%\">\n",
    "  <tr>\n",
    "    <td>**train_set_x_flatten shape**</td>\n",
    "    <td> (12288, 209)</td> \n",
    "  </tr>\n",
    "  <tr>\n",
    "    <td>**train_set_y shape**</td>\n",
    "    <td>(1, 209)</td> \n",
    "  </tr>\n",
    "  <tr>\n",
    "    <td>**test_set_x_flatten shape**</td>\n",
    "    <td>(12288, 50)</td> \n",
    "  </tr>\n",
    "  <tr>\n",
    "    <td>**test_set_y shape**</td>\n",
    "    <td>(1, 50)</td> \n",
    "  </tr>\n",
    "  <tr>\n",
    "  <td>**sanity check after reshaping**</td>\n",
    "  <td>[17 31 56 22 33]</td> \n",
    "  </tr>\n",
    "</table>"
   ]
  },
  {
   "cell_type": "markdown",
   "metadata": {},
   "source": [
    "To represent color images, the red, green and blue channels (RGB) must be specified for each pixel, and so the pixel value is actually a vector of three numbers ranging from 0 to 255.\n",
    "\n",
    "One common preprocessing step in machine learning is to center and standardize your dataset, meaning that you substract the mean of the whole numpy array from each example, and then divide each example by the standard deviation of the whole numpy array. But for picture datasets, it is simpler and more convenient and works almost as well to just divide every row of the dataset by 255 (the maximum value of a pixel channel).\n",
    "\n",
    "<!-- During the training of your model, you're going to multiply weights and add biases to some initial inputs in order to observe neuron activations. Then you backpropogate with the gradients to train the model. But, it is extremely important for each feature to have a similar range such that our gradients don't explode. You will see that more in detail later in the lectures. !--> \n",
    "\n",
    "Let's standardize our dataset."
   ]
  },
  {
   "cell_type": "code",
   "execution_count": 118,
   "metadata": {},
   "outputs": [],
   "source": [
    "train_set_x = train_set_x_flatten/255.\n",
    "test_set_x = test_set_x_flatten/255."
   ]
  },
  {
   "cell_type": "markdown",
   "metadata": {},
   "source": [
    "<font color='blue'>\n",
    "**What you need to remember:**\n",
    "\n",
    "Common steps for pre-processing a new dataset are:\n",
    "- Figure out the dimensions and shapes of the problem (m_train, m_test, num_px, ...)\n",
    "- Reshape the datasets such that each example is now a vector of size (num_px \\* num_px \\* 3, 1)\n",
    "- \"Standardize\" the data"
   ]
  },
  {
   "cell_type": "markdown",
   "metadata": {},
   "source": [
    "## 3 - General Architecture of the learning algorithm ##\n",
    "\n",
    "It's time to design a simple algorithm to distinguish cat images from non-cat images.\n",
    "\n",
    "You will build a Logistic Regression, using a Neural Network mindset. The following Figure explains why **Logistic Regression is actually a very simple Neural Network!**\n",
    "\n",
    "<img src=\"images/LogReg_kiank.png\" style=\"width:650px;height:400px;\">\n",
    "\n",
    "**Mathematical expression of the algorithm**:\n",
    "\n",
    "For one example $x^{(i)}$:\n",
    "$$z^{(i)} = w^T x^{(i)} + b \\tag{1}$$\n",
    "$$\\hat{y}^{(i)} = a^{(i)} = sigmoid(z^{(i)})\\tag{2}$$ \n",
    "$$ \\mathcal{L}(a^{(i)}, y^{(i)}) =  - y^{(i)}  \\log(a^{(i)}) - (1-y^{(i)} )  \\log(1-a^{(i)})\\tag{3}$$\n",
    "\n",
    "The cost is then computed by summing over all training examples:\n",
    "$$ J = \\frac{1}{m} \\sum_{i=1}^m \\mathcal{L}(a^{(i)}, y^{(i)})\\tag{6}$$\n",
    "\n",
    "**Key steps**:\n",
    "In this exercise, you will carry out the following steps: \n",
    "    - Initialize the parameters of the model\n",
    "    - Learn the parameters for the model by minimizing the cost  \n",
    "    - Use the learned parameters to make predictions (on the test set)\n",
    "    - Analyse the results and conclude"
   ]
  },
  {
   "cell_type": "markdown",
   "metadata": {},
   "source": [
    "## 4 - Building the parts of our algorithm ## \n",
    "\n",
    "The main steps for building a Neural Network are:\n",
    "1. Define the model structure (such as number of input features) \n",
    "2. Initialize the model's parameters\n",
    "3. Loop:\n",
    "    - Calculate current loss (forward propagation)\n",
    "    - Calculate current gradient (backward propagation)\n",
    "    - Update parameters (gradient descent)\n",
    "\n",
    "You often build 1-3 separately and integrate them into one function we call `model()`.\n",
    "\n",
    "### 4.1 - Helper functions\n",
    "\n",
    "**Exercise**: Using your code from \"Python Basics\", implement `sigmoid()`. As you've seen in the figure above, you need to compute $sigmoid( w^T x + b) = \\frac{1}{1 + e^{-(w^T x + b)}}$ to make predictions. Use np.exp()."
   ]
  },
  {
   "cell_type": "code",
   "execution_count": 89,
   "metadata": {},
   "outputs": [],
   "source": [
    "# GRADED FUNCTION: sigmoid\n",
    "\n",
    "def sigmoid(z):\n",
    "    \"\"\"\n",
    "    Compute the sigmoid of z\n",
    "\n",
    "    Arguments:\n",
    "    z -- A scalar or numpy array of any size.\n",
    "\n",
    "    Return:\n",
    "    s -- sigmoid(z)\n",
    "    \"\"\"\n",
    "\n",
    "    ### START CODE HERE ### (≈ 1 line of code)\n",
    "    s = 1 / (1 + np.exp(-z))\n",
    "    ### END CODE HERE ###\n",
    "    \n",
    "    return s"
   ]
  },
  {
   "cell_type": "code",
   "execution_count": 90,
   "metadata": {
    "scrolled": true
   },
   "outputs": [
    {
     "name": "stdout",
     "output_type": "stream",
     "text": [
      "sigmoid([0, 2]) = [0.5        0.88079708]\n"
     ]
    }
   ],
   "source": [
    "print (\"sigmoid([0, 2]) = \" + str(sigmoid(np.array([0,2]))))"
   ]
  },
  {
   "cell_type": "markdown",
   "metadata": {},
   "source": [
    "**Expected Output**: \n",
    "\n",
    "<table>\n",
    "  <tr>\n",
    "    <td>**sigmoid([0, 2])**</td>\n",
    "    <td> [ 0.5         0.88079708]</td> \n",
    "  </tr>\n",
    "</table>"
   ]
  },
  {
   "cell_type": "markdown",
   "metadata": {},
   "source": [
    "### 4.2 - Initializing parameters\n",
    "\n",
    "**Exercise:** Implement parameter initialization in the cell below. You have to initialize w as a vector of zeros. If you don't know what numpy function to use, look up np.zeros() in the Numpy library's documentation."
   ]
  },
  {
   "cell_type": "code",
   "execution_count": 91,
   "metadata": {},
   "outputs": [],
   "source": [
    "# GRADED FUNCTION: initialize_with_zeros\n",
    "\n",
    "def initialize_with_zeros(dim):\n",
    "    \"\"\"\n",
    "    This function creates a vector of zeros of shape (dim, 1) for w and initializes b to 0.\n",
    "    \n",
    "    Argument:\n",
    "    dim -- size of the w vector we want (or number of parameters in this case)\n",
    "    \n",
    "    Returns:\n",
    "    w -- initialized vector of shape (dim, 1)\n",
    "    b -- initialized scalar (corresponds to the bias)\n",
    "    \"\"\"\n",
    "    \n",
    "    ### START CODE HERE ### (≈ 1 line of code)\n",
    "    w = np.zeros((dim, 1))\n",
    "    b = 0\n",
    "    ### END CODE HERE ###\n",
    "\n",
    "    assert(w.shape == (dim, 1))\n",
    "    assert(isinstance(b, float) or isinstance(b, int))\n",
    "    \n",
    "    return w, b"
   ]
  },
  {
   "cell_type": "code",
   "execution_count": 92,
   "metadata": {},
   "outputs": [
    {
     "name": "stdout",
     "output_type": "stream",
     "text": [
      "w = [[0.]\n",
      " [0.]]\n",
      "b = 0\n"
     ]
    }
   ],
   "source": [
    "dim = 2\n",
    "w, b = initialize_with_zeros(dim)\n",
    "print (\"w = \" + str(w))\n",
    "print (\"b = \" + str(b))"
   ]
  },
  {
   "cell_type": "markdown",
   "metadata": {},
   "source": [
    "**Expected Output**: \n",
    "\n",
    "\n",
    "<table style=\"width:15%\">\n",
    "    <tr>\n",
    "        <td>  ** w **  </td>\n",
    "        <td> [[ 0.]\n",
    " [ 0.]] </td>\n",
    "    </tr>\n",
    "    <tr>\n",
    "        <td>  ** b **  </td>\n",
    "        <td> 0 </td>\n",
    "    </tr>\n",
    "</table>\n",
    "\n",
    "For image inputs, w will be of shape (num_px $\\times$ num_px $\\times$ 3, 1)."
   ]
  },
  {
   "cell_type": "markdown",
   "metadata": {},
   "source": [
    "### 4.3 - Forward and Backward propagation\n",
    "\n",
    "Now that your parameters are initialized, you can do the \"forward\" and \"backward\" propagation steps for learning the parameters.\n",
    "\n",
    "**Exercise:** Implement a function `propagate()` that computes the cost function and its gradient.\n",
    "\n",
    "**Hints**:\n",
    "\n",
    "Forward Propagation:\n",
    "- You get X\n",
    "- You compute $A = \\sigma(w^T X + b) = (a^{(0)}, a^{(1)}, ..., a^{(m-1)}, a^{(m)})$\n",
    "- You calculate the cost function: $J = -\\frac{1}{m}\\sum_{i=1}^{m}y^{(i)}\\log(a^{(i)})+(1-y^{(i)})\\log(1-a^{(i)})$\n",
    "\n",
    "Here are the two formulas you will be using: \n",
    "\n",
    "$$ \\frac{\\partial J}{\\partial w} = \\frac{1}{m}X(A-Y)^T\\tag{7}$$\n",
    "$$ \\frac{\\partial J}{\\partial b} = \\frac{1}{m} \\sum_{i=1}^m (a^{(i)}-y^{(i)})\\tag{8}$$"
   ]
  },
  {
   "cell_type": "code",
   "execution_count": 93,
   "metadata": {},
   "outputs": [],
   "source": [
    "# GRADED FUNCTION: propagate\n",
    "\n",
    "def propagate(w, b, X, Y):\n",
    "    \"\"\"\n",
    "    Implement the cost function and its gradient for the propagation explained above\n",
    "\n",
    "    Arguments:\n",
    "    w -- weights, a numpy array of size (num_px * num_px * 3, 1)\n",
    "    b -- bias, a scalar\n",
    "    X -- data of size (num_px * num_px * 3, number of examples)\n",
    "    Y -- true \"label\" vector (containing 0 if non-cat, 1 if cat) of size (1, number of examples)\n",
    "\n",
    "    Return:\n",
    "    cost -- negative log-likelihood cost for logistic regression\n",
    "    dw -- gradient of the loss with respect to w, thus same shape as w\n",
    "    db -- gradient of the loss with respect to b, thus same shape as b\n",
    "    \n",
    "    Tips:\n",
    "    - Write your code step by step for the propagation. np.log(), np.dot()\n",
    "    \"\"\"\n",
    "    \n",
    "    m = X.shape[1]\n",
    "    \n",
    "    # FORWARD PROPAGATION (FROM X TO COST)\n",
    "    ### START CODE HERE ### (≈ 2 lines of code)\n",
    "    A = sigmoid(np.dot(w.T, X) + b)            # compute activation\n",
    "    cost = -1/m * np.sum(Y * np.log(A) + (1-Y) * np.log(1-A))         # compute cost\n",
    "    ### END CODE HERE ###\n",
    "    \n",
    "    # BACKWARD PROPAGATION (TO FIND GRAD)\n",
    "    ### START CODE HERE ### (≈ 2 lines of code)\n",
    "    dw = 1/m * np.dot(X, (A - Y).T)\n",
    "    db = 1/m * np.sum(A - Y)\n",
    "    ### END CODE HERE ###\n",
    "\n",
    "    assert(dw.shape == w.shape)\n",
    "    assert(db.dtype == float)\n",
    "    cost = np.squeeze(cost)\n",
    "    assert(cost.shape == ())\n",
    "    \n",
    "    grads = {\"dw\": dw,\n",
    "             \"db\": db}\n",
    "    \n",
    "    return grads, cost"
   ]
  },
  {
   "cell_type": "code",
   "execution_count": 102,
   "metadata": {},
   "outputs": [
    {
     "name": "stdout",
     "output_type": "stream",
     "text": [
      "dw = [[0.99993216]\n",
      " [1.99980262]]\n",
      "db = 0.49993523062470574\n",
      "cost = 6.000064773192205\n"
     ]
    }
   ],
   "source": [
    "w, b, X, Y = np.array([[1],[2]]), 2, np.array([[1,2],[3,4]]), np.array([[1,0]])\n",
    "grads, cost = propagate(w, b, X, Y)\n",
    "print (\"dw = \" + str(grads[\"dw\"]))\n",
    "print (\"db = \" + str(grads[\"db\"]))\n",
    "print (\"cost = \" + str(cost))"
   ]
  },
  {
   "cell_type": "markdown",
   "metadata": {},
   "source": [
    "**Expected Output**:\n",
    "\n",
    "<table style=\"width:50%\">\n",
    "    <tr>\n",
    "        <td>  ** dw **  </td>\n",
    "        <td> [[ 0.99993216]\n",
    " [ 1.99980262]]</td>\n",
    "    </tr>\n",
    "    <tr>\n",
    "        <td>  ** db **  </td>\n",
    "        <td> 0.499935230625 </td>\n",
    "    </tr>\n",
    "    <tr>\n",
    "        <td>  ** cost **  </td>\n",
    "        <td> 6.000064773192205</td>\n",
    "    </tr>\n",
    "\n",
    "</table>"
   ]
  },
  {
   "cell_type": "markdown",
   "metadata": {},
   "source": [
    "### d) Optimization\n",
    "- You have initialized your parameters.\n",
    "- You are also able to compute a cost function and its gradient.\n",
    "- Now, you want to update the parameters using gradient descent.\n",
    "\n",
    "**Exercise:** Write down the optimization function. The goal is to learn $w$ and $b$ by minimizing the cost function $J$. For a parameter $\\theta$, the update rule is $ \\theta = \\theta - \\alpha \\text{ } d\\theta$, where $\\alpha$ is the learning rate."
   ]
  },
  {
   "cell_type": "code",
   "execution_count": 103,
   "metadata": {},
   "outputs": [],
   "source": [
    "# GRADED FUNCTION: optimize\n",
    "\n",
    "def optimize(w, b, X, Y, num_iterations, learning_rate, print_cost = False):\n",
    "    \"\"\"\n",
    "    This function optimizes w and b by running a gradient descent algorithm\n",
    "    \n",
    "    Arguments:\n",
    "    w -- weights, a numpy array of size (num_px * num_px * 3, 1)\n",
    "    b -- bias, a scalar\n",
    "    X -- data of shape (num_px * num_px * 3, number of examples)\n",
    "    Y -- true \"label\" vector (containing 0 if non-cat, 1 if cat), of shape (1, number of examples)\n",
    "    num_iterations -- number of iterations of the optimization loop\n",
    "    learning_rate -- learning rate of the gradient descent update rule\n",
    "    print_cost -- True to print the loss every 100 steps\n",
    "    \n",
    "    Returns:\n",
    "    params -- dictionary containing the weights w and bias b\n",
    "    grads -- dictionary containing the gradients of the weights and bias with respect to the cost function\n",
    "    costs -- list of all the costs computed during the optimization, this will be used to plot the learning curve.\n",
    "    \n",
    "    Tips:\n",
    "    You basically need to write down two steps and iterate through them:\n",
    "        1) Calculate the cost and the gradient for the current parameters. Use propagate().\n",
    "        2) Update the parameters using gradient descent rule for w and b.\n",
    "    \"\"\"\n",
    "    \n",
    "    costs = []\n",
    "    \n",
    "    for i in range(num_iterations):\n",
    "        \n",
    "        \n",
    "        # Cost and gradient calculation (≈ 1-4 lines of code)\n",
    "        ### START CODE HERE ### \n",
    "        grads, cost = propagate(w, b, X, Y)\n",
    "        ### END CODE HERE ###\n",
    "        \n",
    "        # Retrieve derivatives from grads\n",
    "        dw = grads[\"dw\"]\n",
    "        db = grads[\"db\"]\n",
    "        \n",
    "        # update rule (≈ 2 lines of code)\n",
    "        ### START CODE HERE ###\n",
    "        w = w - learning_rate * dw\n",
    "        b = b - learning_rate * db\n",
    "        ### END CODE HERE ###\n",
    "        \n",
    "        # Record the costs\n",
    "        if i % 100 == 0:\n",
    "            costs.append(cost)\n",
    "        \n",
    "        # Print the cost every 100 training examples\n",
    "        if print_cost and i % 100 == 0:\n",
    "            print (\"Cost after iteration %i: %f\" %(i, cost))\n",
    "    \n",
    "    params = {\"w\": w,\n",
    "              \"b\": b}\n",
    "    \n",
    "    grads = {\"dw\": dw,\n",
    "             \"db\": db}\n",
    "    \n",
    "    return params, grads, costs"
   ]
  },
  {
   "cell_type": "code",
   "execution_count": 104,
   "metadata": {},
   "outputs": [
    {
     "name": "stdout",
     "output_type": "stream",
     "text": [
      "w = [[0.1124579 ]\n",
      " [0.23106775]]\n",
      "b = 1.5593049248448891\n",
      "dw = [[0.90158428]\n",
      " [1.76250842]]\n",
      "db = 0.4304620716786828\n"
     ]
    }
   ],
   "source": [
    "params, grads, costs = optimize(w, b, X, Y, num_iterations= 100, learning_rate = 0.009, print_cost = False)\n",
    "\n",
    "print (\"w = \" + str(params[\"w\"]))\n",
    "print (\"b = \" + str(params[\"b\"]))\n",
    "print (\"dw = \" + str(grads[\"dw\"]))\n",
    "print (\"db = \" + str(grads[\"db\"]))"
   ]
  },
  {
   "cell_type": "markdown",
   "metadata": {},
   "source": [
    "**Expected Output**: \n",
    "\n",
    "<table style=\"width:40%\">\n",
    "    <tr>\n",
    "       <td> **w** </td>\n",
    "       <td>[[ 0.1124579 ]\n",
    " [ 0.23106775]] </td>\n",
    "    </tr>\n",
    "    <tr>\n",
    "       <td> **b** </td>\n",
    "       <td> 1.55930492484 </td>\n",
    "    </tr>\n",
    "    <tr>\n",
    "       <td> **dw** </td>\n",
    "       <td> [[ 0.90158428]\n",
    " [ 1.76250842]] </td>\n",
    "    </tr>\n",
    "    <tr>\n",
    "       <td> **db** </td>\n",
    "       <td> 0.430462071679 </td>\n",
    "    </tr>\n",
    "\n",
    "</table>"
   ]
  },
  {
   "cell_type": "markdown",
   "metadata": {},
   "source": [
    "**Exercise:** The previous function will output the learned w and b. We are able to use w and b to predict the labels for a dataset X. Implement the `predict()` function. There is two steps to computing predictions:\n",
    "\n",
    "1. Calculate $\\hat{Y} = A = \\sigma(w^T X + b)$\n",
    "\n",
    "2. Convert the entries of a into 0 (if activation <= 0.5) or 1 (if activation > 0.5), stores the predictions in a vector `Y_prediction`. If you wish, you can use an `if`/`else` statement in a `for` loop (though there is also a way to vectorize this). "
   ]
  },
  {
   "cell_type": "code",
   "execution_count": 113,
   "metadata": {},
   "outputs": [],
   "source": [
    "# GRADED FUNCTION: predict\n",
    "\n",
    "def predict(w, b, X):\n",
    "    '''\n",
    "    Predict whether the label is 0 or 1 using learned logistic regression parameters (w, b)\n",
    "    \n",
    "    Arguments:\n",
    "    w -- weights, a numpy array of size (num_px * num_px * 3, 1)\n",
    "    b -- bias, a scalar\n",
    "    X -- data of size (num_px * num_px * 3, number of examples)\n",
    "    \n",
    "    Returns:\n",
    "    Y_prediction -- a numpy array (vector) containing all predictions (0/1) for the examples in X\n",
    "    '''\n",
    "    \n",
    "    m = X.shape[1]\n",
    "    Y_prediction = np.zeros((1,m))\n",
    "    w = w.reshape(X.shape[0], 1)\n",
    "    \n",
    "    # Compute vector \"A\" predicting the probabilities of a cat being present in the picture\n",
    "    ### START CODE HERE ### (≈ 1 line of code)\n",
    "    A = sigmoid(np.dot(w.T, X) + b)\n",
    "    ### END CODE HERE ###\n",
    "\n",
    "    for i in range(A.shape[1]):\n",
    "        \n",
    "        # Convert probabilities A[0,i] to actual predictions p[0,i]\n",
    "        ### START CODE HERE ### (≈ 4 lines of code)\n",
    "        Y_prediction[0, i] = np.rint(A[0,i])\n",
    "        ### END CODE HERE ###\n",
    "    \n",
    "    assert(Y_prediction.shape == (1, m))\n",
    "    \n",
    "    return Y_prediction"
   ]
  },
  {
   "cell_type": "code",
   "execution_count": 114,
   "metadata": {},
   "outputs": [
    {
     "name": "stdout",
     "output_type": "stream",
     "text": [
      "predictions = [[1. 1.]]\n"
     ]
    }
   ],
   "source": [
    "print (\"predictions = \" + str(predict(params[\"w\"], params[\"b\"], X)))"
   ]
  },
  {
   "cell_type": "markdown",
   "metadata": {},
   "source": [
    "**Expected Output**: \n",
    "\n",
    "<table style=\"width:30%\">\n",
    "    <tr>\n",
    "         <td>\n",
    "             **predictions**\n",
    "         </td>\n",
    "          <td>\n",
    "            [[ 1.  1.]]\n",
    "         </td>  \n",
    "   </tr>\n",
    "\n",
    "</table>\n"
   ]
  },
  {
   "cell_type": "markdown",
   "metadata": {
    "collapsed": true
   },
   "source": [
    "<font color='blue'>\n",
    "**What to remember:**\n",
    "You've implemented several functions that:\n",
    "- Initialize (w,b)\n",
    "- Optimize the loss iteratively to learn parameters (w,b):\n",
    "    - computing the cost and its gradient \n",
    "    - updating the parameters using gradient descent\n",
    "- Use the learned (w,b) to predict the labels for a given set of examples"
   ]
  },
  {
   "cell_type": "markdown",
   "metadata": {},
   "source": [
    "## 5 - Merge all functions into a model ##\n",
    "\n",
    "You will now see how the overall model is structured by putting together all the building blocks (functions implemented in the previous parts) together, in the right order.\n",
    "\n",
    "**Exercise:** Implement the model function. Use the following notation:\n",
    "    - Y_prediction for your predictions on the test set\n",
    "    - Y_prediction_train for your predictions on the train set\n",
    "    - w, costs, grads for the outputs of optimize()"
   ]
  },
  {
   "cell_type": "code",
   "execution_count": 121,
   "metadata": {},
   "outputs": [],
   "source": [
    "# GRADED FUNCTION: model\n",
    "\n",
    "def model(X_train, Y_train, X_test, Y_test, num_iterations = 2000, learning_rate = 0.5, print_cost = False):\n",
    "    \"\"\"\n",
    "    Builds the logistic regression model by calling the function you've implemented previously\n",
    "    \n",
    "    Arguments:\n",
    "    X_train -- training set represented by a numpy array of shape (num_px * num_px * 3, m_train)\n",
    "    Y_train -- training labels represented by a numpy array (vector) of shape (1, m_train)\n",
    "    X_test -- test set represented by a numpy array of shape (num_px * num_px * 3, m_test)\n",
    "    Y_test -- test labels represented by a numpy array (vector) of shape (1, m_test)\n",
    "    num_iterations -- hyperparameter representing the number of iterations to optimize the parameters\n",
    "    learning_rate -- hyperparameter representing the learning rate used in the update rule of optimize()\n",
    "    print_cost -- Set to true to print the cost every 100 iterations\n",
    "    \n",
    "    Returns:\n",
    "    d -- dictionary containing information about the model.\n",
    "    \"\"\"\n",
    "    \n",
    "    ### START CODE HERE ###\n",
    "    \n",
    "    # initialize parameters with zeros (≈ 1 line of code)\n",
    "    w, b = initialize_with_zeros(X_train.shape[0])\n",
    "\n",
    "    # Gradient descent (≈ 1 line of code)\n",
    "    parameters, grads, costs = optimize(w, b, X_train, Y_train, num_iterations, learning_rate, print_cost)\n",
    "    \n",
    "    # Retrieve parameters w and b from dictionary \"parameters\"\n",
    "    w = parameters[\"w\"]\n",
    "    b = parameters[\"b\"]\n",
    "    \n",
    "    # Predict test/train set examples (≈ 2 lines of code)\n",
    "    Y_prediction_test = predict(w, b, X_test)\n",
    "    Y_prediction_train = predict(w, b, X_train)\n",
    "\n",
    "    ### END CODE HERE ###\n",
    "\n",
    "    # Print train/test Errors\n",
    "    print(\"train accuracy: {} %\".format(100 - np.mean(np.abs(Y_prediction_train - Y_train)) * 100))\n",
    "    print(\"test accuracy: {} %\".format(100 - np.mean(np.abs(Y_prediction_test - Y_test)) * 100))\n",
    "\n",
    "    \n",
    "    d = {\"costs\": costs,\n",
    "         \"Y_prediction_test\": Y_prediction_test, \n",
    "         \"Y_prediction_train\" : Y_prediction_train, \n",
    "         \"w\" : w, \n",
    "         \"b\" : b,\n",
    "         \"learning_rate\" : learning_rate,\n",
    "         \"num_iterations\": num_iterations}\n",
    "    \n",
    "    return d"
   ]
  },
  {
   "cell_type": "markdown",
   "metadata": {},
   "source": [
    "Run the following cell to train your model."
   ]
  },
  {
   "cell_type": "code",
   "execution_count": 119,
   "metadata": {},
   "outputs": [
    {
     "name": "stdout",
     "output_type": "stream",
     "text": [
      "Cost after iteration 0: 0.693147\n",
      "Cost after iteration 100: 0.584508\n",
      "Cost after iteration 200: 0.466949\n",
      "Cost after iteration 300: 0.376007\n",
      "Cost after iteration 400: 0.331463\n",
      "Cost after iteration 500: 0.303273\n",
      "Cost after iteration 600: 0.279880\n",
      "Cost after iteration 700: 0.260042\n",
      "Cost after iteration 800: 0.242941\n",
      "Cost after iteration 900: 0.228004\n",
      "Cost after iteration 1000: 0.214820\n",
      "Cost after iteration 1100: 0.203078\n",
      "Cost after iteration 1200: 0.192544\n",
      "Cost after iteration 1300: 0.183033\n",
      "Cost after iteration 1400: 0.174399\n",
      "Cost after iteration 1500: 0.166521\n",
      "Cost after iteration 1600: 0.159305\n",
      "Cost after iteration 1700: 0.152667\n",
      "Cost after iteration 1800: 0.146542\n",
      "Cost after iteration 1900: 0.140872\n",
      "train accuracy: 99.04306220095694 %\n",
      "test accuracy: 70.0 %\n"
     ]
    }
   ],
   "source": [
    "d = model(train_set_x, train_set_y, test_set_x, test_set_y, num_iterations = 2000, learning_rate = 0.005, print_cost = True)"
   ]
  },
  {
   "cell_type": "markdown",
   "metadata": {},
   "source": [
    "**Expected Output**: \n",
    "\n",
    "<table style=\"width:40%\">   \n",
    "    <tr>\n",
    "        <td> **Train Accuracy**  </td> \n",
    "        <td> 99.04306220095694 % </td>\n",
    "    </tr>\n",
    "    <tr>\n",
    "        <td>**Test Accuracy** </td> \n",
    "        <td> 70.0 % </td>\n",
    "    </tr>\n",
    "</table> \n",
    "\n",
    "\n"
   ]
  },
  {
   "cell_type": "markdown",
   "metadata": {
    "collapsed": true
   },
   "source": [
    "**Comment**: Training accuracy is close to 100%. This is a good sanity check: your model is working and has high enough capacity to fit the training data. Test error is 68%. It is actually not bad for this simple model, given the small dataset we used and that logistic regression is a linear classifier. But no worries, you'll build an even better classifier next week!\n",
    "\n",
    "Also, you see that the model is clearly overfitting the training data. Later in this specialization you will learn how to reduce overfitting, for example by using regularization. Using the code below (and changing the `index` variable) you can look at predictions on pictures of the test set."
   ]
  },
  {
   "cell_type": "code",
   "execution_count": 133,
   "metadata": {},
   "outputs": [
    {
     "name": "stdout",
     "output_type": "stream",
     "text": [
      "y = 1, you predicted that it is a \"cat\" picture.\n"
     ]
    },
    {
     "data": {
      "image/png": "[encoded data removed]",
      "text/plain": [
       "<Figure size 432x288 with 1 Axes>"
      ]
     },
     "metadata": {
      "needs_background": "light"
     },
     "output_type": "display_data"
    }
   ],
   "source": [
    "# Example of a picture that was wrongly classified.\n",
    "index = 4\n",
    "plt.imshow(test_set_x[:,index].reshape((num_px, num_px, 3)))\n",
    "print (\"y = \" + str(test_set_y[0,index]) + \", you predicted that it is a \\\"\" + classes[int(d[\"Y_prediction_test\"][0,index])].decode(\"utf-8\") +  \"\\\" picture.\")"
   ]
  },
  {
   "cell_type": "markdown",
   "metadata": {},
   "source": [
    "Let's also plot the cost function and the gradients."
   ]
  },
  {
   "cell_type": "code",
   "execution_count": 134,
   "metadata": {},
   "outputs": [
    {
     "data": {
      "image/png": "[encoded data removed]",
      "text/plain": [
       "<Figure size 432x288 with 1 Axes>"
      ]
     },
     "metadata": {
      "needs_background": "light"
     },
     "output_type": "display_data"
    }
   ],
   "source": [
    "# Plot learning curve (with costs)\n",
    "costs = np.squeeze(d['costs'])\n",
    "plt.plot(costs)\n",
    "plt.ylabel('cost')\n",
    "plt.xlabel('iterations (per hundreds)')\n",
    "plt.title(\"Learning rate =\" + str(d[\"learning_rate\"]))\n",
    "plt.show()"
   ]
  },
  {
   "cell_type": "markdown",
   "metadata": {
    "collapsed": true
   },
   "source": [
    "**Interpretation**:\n",
    "You can see the cost decreasing. It shows that the parameters are being learned. However, you see that you could train the model even more on the training set. Try to increase the number of iterations in the cell above and rerun the cells. You might see that the training set accuracy goes up, but the test set accuracy goes down. This is called overfitting. "
   ]
  },
  {
   "cell_type": "markdown",
   "metadata": {},
   "source": [
    "## 6 - Further analysis (optional/ungraded exercise) ##\n",
    "\n",
    "Congratulations on building your first image classification model. Let's analyze it further, and examine possible choices for the learning rate $\\alpha$. "
   ]
  },
  {
   "cell_type": "markdown",
   "metadata": {},
   "source": [
    "#### Choice of learning rate ####\n",
    "\n",
    "**Reminder**:\n",
    "In order for Gradient Descent to work you must choose the learning rate wisely. The learning rate $\\alpha$  determines how rapidly we update the parameters. If the learning rate is too large we may \"overshoot\" the optimal value. Similarly, if it is too small we will need too many iterations to converge to the best values. That's why it is crucial to use a well-tuned learning rate.\n",
    "\n",
    "Let's compare the learning curve of our model with several choices of learning rates. Run the cell below. This should take about 1 minute. Feel free also to try different values than the three we have initialized the `learning_rates` variable to contain, and see what happens. "
   ]
  },
  {
   "cell_type": "code",
   "execution_count": 135,
   "metadata": {},
   "outputs": [
    {
     "name": "stdout",
     "output_type": "stream",
     "text": [
      "learning rate is: 0.01\n",
      "train accuracy: 99.52153110047847 %\n",
      "test accuracy: 68.0 %\n",
      "\n",
      "-------------------------------------------------------\n",
      "\n",
      "learning rate is: 0.001\n",
      "train accuracy: 88.99521531100478 %\n",
      "test accuracy: 64.0 %\n",
      "\n",
      "-------------------------------------------------------\n",
      "\n",
      "learning rate is: 0.0001\n",
      "train accuracy: 68.42105263157895 %\n",
      "test accuracy: 36.0 %\n",
      "\n",
      "-------------------------------------------------------\n",
      "\n"
     ]
    },
    {
     "data": {
      "image/png": "[encoded data removed]",
      "text/plain": [
       "<Figure size 432x288 with 1 Axes>"
      ]
     },
     "metadata": {
      "needs_background": "light"
     },
     "output_type": "display_data"
    }
   ],
   "source": [
    "learning_rates = [0.01, 0.001, 0.0001]\n",
    "models = {}\n",
    "for i in learning_rates:\n",
    "    print (\"learning rate is: \" + str(i))\n",
    "    models[str(i)] = model(train_set_x, train_set_y, test_set_x, test_set_y, num_iterations = 1500, learning_rate = i, print_cost = False)\n",
    "    print ('\\n' + \"-------------------------------------------------------\" + '\\n')\n",
    "\n",
    "for i in learning_rates:\n",
    "    plt.plot(np.squeeze(models[str(i)][\"costs\"]), label= str(models[str(i)][\"learning_rate\"]))\n",
    "\n",
    "plt.ylabel('cost')\n",
    "plt.xlabel('iterations')\n",
    "\n",
    "legend = plt.legend(loc='upper center', shadow=True)\n",
    "frame = legend.get_frame()\n",
    "frame.set_facecolor('0.90')\n",
    "plt.show()"
   ]
  },
  {
   "cell_type": "markdown",
   "metadata": {},
   "source": [
    "**Interpretation**: \n",
    "- Different learning rates give different costs and thus different predictions results.\n",
    "- If the learning rate is too large (0.01), the cost may oscillate up and down. It may even diverge (though in this example, using 0.01 still eventually ends up at a good value for the cost). \n",
    "- A lower cost doesn't mean a better model. You have to check if there is possibly overfitting. It happens when the training accuracy is a lot higher than the test accuracy.\n",
    "- In deep learning, we usually recommend that you: \n",
    "    - Choose the learning rate that better minimizes the cost function.\n",
    "    - If your model overfits, use other techniques to reduce overfitting. (We'll talk about this in later videos.) \n"
   ]
  },
  {
   "cell_type": "markdown",
   "metadata": {
    "collapsed": true
   },
   "source": [
    "## 7 - Test with your own image (optional/ungraded exercise) ##\n",
    "\n",
    "Congratulations on finishing this assignment. You can use your own image and see the output of your model. To do that:\n",
    "    1. Click on \"File\" in the upper bar of this notebook, then click \"Open\" to go on your Coursera Hub.\n",
    "    2. Add your image to this Jupyter Notebook's directory, in the \"images\" folder\n",
    "    3. Change your image's name in the following code\n",
    "    4. Run the code and check if the algorithm is right (1 = cat, 0 = non-cat)!"
   ]
  },
  {
   "cell_type": "code",
   "execution_count": 158,
   "metadata": {},
   "outputs": [
    {
     "name": "stdout",
     "output_type": "stream",
     "text": [
      "y = 1.0, your algorithm predicts a \"cat\" picture.\n"
     ]
    },
    {
     "data": {
      "image/png": "[encoded data removed]",
      "text/plain": [
       "<Figure size 432x288 with 1 Axes>"
      ]
     },
     "metadata": {
      "needs_background": "light"
     },
     "output_type": "display_data"
    }
   ],
   "source": [
    "## START CODE HERE ## (PUT YOUR IMAGE NAME) \n",
    "import matplotlib\n",
    "my_image = \"catOrNot6.jpg\"   # change this to the name of your image file \n",
    "## END CODE HERE ##\n",
    "\n",
    "# We preprocess the image to fit your algorithm.\n",
    "fname = \"images/\" + my_image\n",
    "image = np.array(matplotlib.pyplot.imread(fname))\n",
    "# my_image = scipy.misc.imresize(image, size=(num_px,num_px)).reshape((1, num_px*num_px*3)).T\n",
    "my_image = np.array(Image.fromarray(image).resize(size=(num_px,num_px))).reshape((1, num_px*num_px*3)).T\n",
    "my_predicted_image = predict(d[\"w\"], d[\"b\"], my_image)\n",
    "\n",
    "plt.imshow(image)\n",
    "print(\"y = \" + str(np.squeeze(my_predicted_image)) + \", your algorithm predicts a \\\"\" + classes[int(np.squeeze(my_predicted_image)),].decode(\"utf-8\") +  \"\\\" picture.\")\n"
   ]
  },
  {
   "cell_type": "code",
   "execution_count": 148,
   "metadata": {},
   "outputs": [
    {
     "name": "stdout",
     "output_type": "stream",
     "text": [
      "Scipy version:1.5.2\n",
      "==================================================\n"
     ]
    }
   ],
   "source": [
    "import scipy as sp\n",
    "\n",
    "print(\"Scipy version:{}\".format(sp.__version__))\n",
    "\n",
    "print(\"=\"*50)"
   ]
  },
  {
   "cell_type": "markdown",
   "metadata": {},
   "source": [
    "<font color='blue'>\n",
    "**What to remember from this assignment:**\n",
    "1. Preprocessing the dataset is important.\n",
    "2. You implemented each function separately: initialize(), propagate(), optimize(). Then you built a model().\n",
    "3. Tuning the learning rate (which is an example of a \"hyperparameter\") can make a big difference to the algorithm. You will see more examples of this later in this course!"
   ]
  },
  {
   "cell_type": "markdown",
   "metadata": {},
   "source": [
    "Finally, if you'd like, we invite you to try different things on this Notebook. Make sure you submit before trying anything. Once you submit, things you can play with include:\n",
    "    - Play with the learning rate and the number of iterations\n",
    "    - Try different initialization methods and compare the results\n",
    "    - Test other preprocessings (center the data, or divide each row by its standard deviation)"
   ]
  },
  {
   "cell_type": "markdown",
   "metadata": {},
   "source": [
    "Bibliography:\n",
    "- http://www.wildml.com/2015/09/implementing-a-neural-network-from-scratch/\n",
    "- https://stats.stackexchange.com/questions/211436/why-do-we-normalize-images-by-subtracting-the-datasets-image-mean-and-not-the-c"
   ]
  }
 ],
 "metadata": {
  "coursera": {
   "course_slug": "neural-networks-deep-learning",
   "graded_item_id": "XaIWT",
   "launcher_item_id": "zAgPl"
  },
  "kernelspec": {
   "display_name": "Python 3",
   "language": "python",
   "name": "python3"
  },
  "language_info": {
   "codemirror_mode": {
    "name": "ipython",
    "version": 3
   },
   "file_extension": ".py",
   "mimetype": "text/x-python",
   "name": "python",
   "nbconvert_exporter": "python",
   "pygments_lexer": "ipython3",
   "version": "3.7.6"
  }
 },
 "nbformat": 4,
 "nbformat_minor": 2
}
